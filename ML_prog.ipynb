{
 "cells": [
  {
   "cell_type": "markdown",
   "metadata": {},
   "source": [
    "# Machine Learning Assigment"
   ]
  },
  {
   "cell_type": "code",
   "execution_count": 80,
   "metadata": {},
   "outputs": [],
   "source": [
    "import pandas as pd\n",
    "import numpy as np\n",
    "import matplotlib.pyplot as plt\n",
    "import seaborn as sns\n",
    "import time\n",
    "from PIL import Image\n",
    "from sklearn.model_selection import cross_val_score\n",
    "from sklearn.neural_network import MLPClassifier\n",
    "from sklearn.svm import SVC\n",
    "from sklearn.ensemble import RandomForestClassifier, voting_classifier\n",
    "from sklearn.tree import DecisionTreeClassifier\n",
    "from sklearn import preprocessing\n",
    "from sklearn.decomposition import PCA\n",
    "from sklearn.decomposition import NMF\n",
    "from sklearn.model_selection import train_test_split\n",
    "from keras.utils import to_categorical\n",
    "from keras.models import Sequential\n",
    "import tensorflow as tf\n",
    "from sklearn.svm import SVC\n",
    "from keras.layers import Dense, Conv2D, Flatten, MaxPooling2D, ZeroPadding2D\n",
    "from sklearn.neighbors import KNeighborsClassifier\n",
    "from sklearn.model_selection import cross_val_score\n",
    "from sklearn.datasets import load_iris\n",
    "from sklearn.ensemble import AdaBoostClassifier\n",
    "import warnings\n",
    "import random\n",
    "\n",
    "\n",
    "warnings.filterwarnings(\"ignore\")"
   ]
  },
  {
   "cell_type": "markdown",
   "metadata": {},
   "source": [
    "# Import and Cleaning"
   ]
  },
  {
   "cell_type": "code",
   "execution_count": 99,
   "metadata": {},
   "outputs": [],
   "source": [
    "# Importing data\n",
    "df = pd.read_csv('attribute_list.csv', skiprows=1)#row 1 are for coloumns name so we skip it: skiprows=1\n",
    "\n",
    "# reading pictures. Returning as np.array. Color level: RGB\n",
    "#Black and white color saves us time \n",
    "#and is more simple to handle in binary decisions and \n",
    "#don't affect accuracy\n",
    "\n",
    "\n",
    "def read_pic(name, as_black_white=False):   \n",
    "    string = 'dataset/' + str(name) + '.png'\n",
    "    if as_black_white == True:\n",
    "        return(np.array(Image.open(string).convert(mode='L')))\n",
    "    else:\n",
    "        return(np.array(Image.open(string)))\n",
    "\n",
    "# Cleaning data: data where each column are labeled \"-1\" are noises\n",
    "def clean_data():\n",
    "    tmp = df[['hair_color', 'eyeglasses', 'smiling', 'young', 'human']]\n",
    "    tmp['sum'] = tmp.sum(axis=1)\n",
    "    t = tmp[tmp['sum'] == -5]\n",
    "    return(t.index + 1)\n",
    "df.drop(labels=clean_data()-1, inplace=True)\n",
    "\n",
    "# Converting (-1,1) to (0, 1)\n",
    "df['eyeglasses'] = (df['eyeglasses'] + 1) / 2\n",
    "df['smiling'] = (df['smiling'] + 1) / 2\n",
    "df['young'] = (df['young'] + 1) / 2\n",
    "df['human'] = (df['human'] + 1) / 2\n",
    "\n",
    "df['eyeglasses'] = df['eyeglasses'].apply(lambda x: int(x))\n",
    "df['smiling'] = df['smiling'].apply(lambda x: int(x))\n",
    "df['young'] = df['young'].apply(lambda x: int(x))\n",
    "df['human'] = df['human'].apply(lambda x: int(x))\n",
    "\n",
    "# Importing Pictures\n",
    "def import_pictures_bw(data, _as_black_white=True, for_hair=False):\n",
    "    res = []\n",
    "    if for_hair == True:\n",
    "        df_hair = data[data['hair_color'] != -1]\n",
    "        file_names = np.array(df_hair['file_name'])\n",
    "        print(\"Number of pictures to load for hair: \", file_names.shape)\n",
    "    else:\n",
    "        file_names = np.array(data['file_name'])\n",
    "        print(\"Number of pictures to load for binary case: \", file_names.shape)\n",
    "    for k in file_names:\n",
    "        res.append(read_pic(k, as_black_white=_as_black_white)) # Data are alredy cleaned\n",
    "    return(np.array(res), file_names)\n",
    "\n",
    "\n",
    "\n",
    "#just for test\n",
    "\n",
    "#pics_color, fl_nm_col = import_pictures_bw(df)\n",
    "#pics_color.shape # acces to an image: pics[name_of_img][x_pixel][y_pixel][RGB_color]\n",
    "\n",
    "\n",
    "\n",
    "def createSets(file_names, prop=5./6): # Only takes np.array as arguments\n",
    "    indexMax = int(prop*len(file_names))\n",
    "    sample = np.random.permutation(len(file_names))\n",
    "    return(sample, indexMax)"
   ]
  },
  {
   "cell_type": "markdown",
   "metadata": {},
   "source": [
    "# Preprocessing for black and white pictures"
   ]
  },
  {
   "cell_type": "markdown",
   "metadata": {},
   "source": [
    "### Import pictures in _black_ and _white_ and scaling."
   ]
  },
  {
   "cell_type": "code",
   "execution_count": 103,
   "metadata": {},
   "outputs": [
    {
     "name": "stdout",
     "output_type": "stream",
     "text": [
      "Number of pictures to load for hair:  (3902,)\n",
      "(3902, 256, 256)\n",
      "Number of pictures to load for binary case:  (4565,)\n",
      "(4565, 256, 256)\n"
     ]
    }
   ],
   "source": [
    "################################# importing and scaling pictures for hair in b&w ###############################\n",
    "\n",
    "pics_hair_bw, file_name_hair_bw = import_pictures_bw(df, _as_black_white=True, for_hair=True)\n",
    "print(pics_hair_bw.shape)\n",
    "\n",
    "\n",
    "\n",
    "################################ importing and scaling pictures for binary case in b&w ########################\n",
    "\n",
    "pics_binary_bw, file_name_binary_bw = import_pictures_bw(df, _as_black_white=True, for_hair=False)\n",
    "print(pics_binary_bw.shape)\n",
    "\n",
    "\n",
    "\n"
   ]
  },
  {
   "cell_type": "markdown",
   "metadata": {},
   "source": [
    "### Applying  PCA in B&W"
   ]
  },
  {
   "cell_type": "code",
   "execution_count": 104,
   "metadata": {},
   "outputs": [
    {
     "name": "stdout",
     "output_type": "stream",
     "text": [
      "X_hair_bw_PCA.shape (3902, 2809)\n",
      "Time to compute the PCA for hair (99% precision): 5.17 min\n",
      "\n",
      "X_binary_bw_PCA (4565, 2809)\n",
      "Time to compute the PCA for binary case (99% precision): 6.19 min\n",
      "\n"
     ]
    }
   ],
   "source": [
    "pics_hair_bw_PCA = np.array([preprocessing.scale(pics_hair_bw[k]) for k in range(len(pics_hair_bw))])\n",
    "pics_binary_bw_PCA = np.array([preprocessing.scale(pics_binary_bw[k]) for k in range(len(pics_binary_bw))])\n",
    "\n",
    "\n",
    "\n",
    "# searching for number of component to keep\n",
    "v_exp = np.cumsum(pca.explained_variance_ratio_)\n",
    "\n",
    "def extract_var(tbl, x=.99):\n",
    "    k = 0\n",
    "    while tbl[k] < x:\n",
    "        k = k + 1\n",
    "    return(k)\n",
    "\n",
    "k99 = extract_var(v_exp, x=.99)\n",
    "pca99 = PCA(n_components=k99)\n",
    "\n",
    "# First, ravel\n",
    "def to_vector(data):\n",
    "    res = []\n",
    "    for k in range(len(data)):\n",
    "        res.append(data[k].ravel())\n",
    "    return(np.array(res))\n",
    "\n",
    "pics_lin_hair_PCA = to_vector(data = pics_hair_bw_PCA)\n",
    "pics_lin_binary_PCA = to_vector(data = pics_binary_bw_PCA)\n",
    "\n",
    "\n",
    "######################################## Apply PCA for hair ###########################################\n",
    "s = time.time()\n",
    "\n",
    "\n",
    "pca = PCA()\n",
    "pca.fit(pics_lin_hair_PCA)\n",
    "\n",
    "\n",
    "\n",
    "X_hair_bw_PCA = pca99.fit_transform(pics_lin_hair_PCA)\n",
    "\n",
    "print('X_hair_bw_PCA.shape', X_hair_bw_PCA.shape)\n",
    "print('Time to compute the PCA for hair (99% precision): ' + str(int(100*(time.time() - s)/60)/100) + ' min')\n",
    "print('')\n",
    "\n",
    "\n",
    "######################################## Apply PCA for hair ###########################################\n",
    "\n",
    "\n",
    "u = time.time()\n",
    "\n",
    "\n",
    "pca = PCA()\n",
    "pca.fit(pics_lin_binary_PCA)\n",
    "\n",
    "\n",
    "\n",
    "X_binary_bw_PCA = pca99.fit_transform(pics_lin_binary_PCA)\n",
    "\n",
    "print('X_binary_bw_PCA', X_binary_bw_PCA.shape)\n",
    "print('Time to compute the PCA for binary case (99% precision): ' + str(int(100*(time.time() - u)/60)/100) + ' min')\n",
    "print('')\n",
    "\n",
    "\n",
    "\n",
    "\n",
    "\n"
   ]
  },
  {
   "cell_type": "markdown",
   "metadata": {},
   "source": [
    "### Applying NMF in B&W"
   ]
  },
  {
   "cell_type": "code",
   "execution_count": 105,
   "metadata": {},
   "outputs": [
    {
     "name": "stdout",
     "output_type": "stream",
     "text": [
      "Time to compute nmf.fit_transform for hair: 2.01 min\n",
      "Time to compute nmf.fit_transform for binary data case: 2.88 min\n"
     ]
    }
   ],
   "source": [
    "######################################## Apply NMF for hair ###########################################\n",
    "\n",
    "\n",
    "s = time.time()\n",
    "\n",
    "pics_lin_hair_NMF = to_vector(data=pics_hair_bw)\n",
    "\n",
    "#nmf.fit(pics_lin)\n",
    "nmf = NMF(n_components=15)  #we used nmf with base 15\n",
    "X_hair_bw = nmf.fit_transform(pics_lin_hair_NMF)\n",
    "X_hair_bw_NMF = preprocessing.scale(X_hair_bw)\n",
    "\n",
    "\n",
    "\n",
    "print('Time to compute nmf.fit_transform for hair: ' + str(int(100*(time.time() - s)/60)/100) + ' min')\n",
    "\n",
    "\n",
    "######################################## Apply NMF for binary case ###########################################\n",
    "\n",
    "t = time.time()\n",
    "\n",
    "pics_lin_binary_NMF = to_vector(data=pics_binary_bw)\n",
    "\n",
    "#nmf.fit(pics_lin)\n",
    "nmf = NMF(n_components=15)  #we used nmf with base 15\n",
    "X_binary_bw = nmf.fit_transform(pics_lin_binary_NMF)\n",
    "X_binary_bw_NMF = preprocessing.scale(X_binary_bw)\n",
    "\n",
    "\n",
    "print('Time to compute nmf.fit_transform for binary data case: ' + str(int(100*(time.time() - t)/60)/100) + ' min')\n",
    "\n"
   ]
  },
  {
   "cell_type": "markdown",
   "metadata": {},
   "source": [
    "# Preprocessing in color"
   ]
  },
  {
   "cell_type": "markdown",
   "metadata": {},
   "source": [
    "### Importing picture in color with hexadecimal code"
   ]
  },
  {
   "cell_type": "code",
   "execution_count": 106,
   "metadata": {
    "scrolled": true
   },
   "outputs": [
    {
     "name": "stdout",
     "output_type": "stream",
     "text": [
      "Number of pictures to load: (3902,)\n",
      "finish hair\n",
      "Number of pictures to load: (4565,)\n",
      "Time to compute this part:42.17 min\n",
      "Time to load data:42.17 min\n",
      "Data Loaded!\n",
      "Colored_decimal_pictures_for_hair:  (3902, 256, 256)\n",
      "Colored_decimal_pictures_binary_case:  (4565, 256, 256)\n"
     ]
    }
   ],
   "source": [
    "# note that we could have used the following function to import pictures in color:\n",
    "# import_pictures_bw(df, _as_black_white=False, for_hair=True) (with as_black_white set at False)\n",
    "# But this would return images in rgb coloring with a shape of: 256*256*3 (3 dimension) \n",
    "# which is not adapted to certain \n",
    "# functions such a scaling. For ease we hence use the following code to convert rgb to hexadecimal\n",
    "# and manipulate picture with shape 256*256 only (2D)\n",
    "\n",
    "\n",
    "def rgb2dec(img):\n",
    "    res = np.zeros(shape=(img.shape[0],img.shape[1]))\n",
    "    for k in range (img.shape[0]):\n",
    "        for l in range (img.shape[1]):\n",
    "            r,g,b = img[k][l][0], img[k][l][1], img[k][l][2]\n",
    "            hx = \"#{:02x}{:02x}{:02x}\".format(r,g,b)\n",
    "            res[k][l] = int(hx[1:], 16)\n",
    "    \n",
    "    return(res)\n",
    "\n",
    "\n",
    "\n",
    "def import_pictures_color(data, for_hair=False): #difference importing hair color data and others as we need to missing data for hair color\n",
    "    res = []\n",
    "    if for_hair == True:\n",
    "        df2 = data[data['hair_color'] != -1]\n",
    "        file_names = np.array(df2['file_name'])\n",
    "        print(\"Number of pictures to load:\", file_names.shape)\n",
    "    else:\n",
    "        file_names = np.array(data['file_name'])\n",
    "        print(\"Number of pictures to load:\", file_names.shape)\n",
    "    for k in file_names:\n",
    "        string = 'dataset/' + str(k) + '.png'\n",
    "        tmp = np.array(Image.open(string))\n",
    "        res.append(rgb2dec(tmp)) # Data are alredy cleaned\n",
    "    return(np.array(res),file_names)\n",
    "    \n",
    "# Loading data\n",
    "\n",
    "#if data \n",
    "\n",
    "compute = True\n",
    "s = time.time()\n",
    "if compute == True:\n",
    "    \n",
    "    s = time.time()\n",
    "    \n",
    "    colored_pic_for_hair, file_name_hair_col = import_pictures_color(df, for_hair=True)\n",
    "    np.save('Colored_decimal_pictures_for_hair', colored_pic_for_hair)\n",
    "    np.save('File_name_hair_colored_pic', file_name_hair_col)\n",
    "    print('finish hair')\n",
    "    colored_pic_binary_case, file_name_binary_col = import_pictures_color(df,for_hair=False)\n",
    "    np.save('Colored_decimal_pictures_binary_case', colored_pic_binary_case)\n",
    "    np.save('File_name_binary_colored_pic', file_name_binary_col)\n",
    "    \n",
    "    print(\"Time to compute this part:\" + str(int(100*(time.time() - s)/60)/100) + ' min')\n",
    "    compute = False\n",
    "else:\n",
    "   \n",
    "    colored_pic_for_hair = np.load('Colored_decimal_pictures_for_hair.npy')\n",
    "    colored_pic_binary_case = np.load('Colored_decimal_pictures_binary_case.npy')\n",
    "    file_name_hair_col = np.load('File_name_hair_colored_pic')\n",
    "    file_name_binary_col = np.load('File_name_binary_colored_pic')\n",
    "    \n",
    "    \n",
    "print(\"Time to load data:\" + str(int(100*(time.time() - s)/60)/100) + ' min')\n",
    "print(\"Data Loaded!\")\n",
    "print(\"Colored_decimal_pictures_for_hair: \", colored_pic_for_hair.shape)\n",
    "print(\"Colored_decimal_pictures_binary_case: \", colored_pic_binary_case.shape)   "
   ]
  },
  {
   "cell_type": "markdown",
   "metadata": {},
   "source": [
    "### Applying NMF in color"
   ]
  },
  {
   "cell_type": "code",
   "execution_count": 108,
   "metadata": {},
   "outputs": [
    {
     "name": "stdout",
     "output_type": "stream",
     "text": [
      "Time to compute nmf.fit_transform for hair: 1.68 min\n",
      "Time to compute nmf.fit_transform for binary data case: 2.19 min\n"
     ]
    }
   ],
   "source": [
    "\n",
    "\n",
    "\n",
    "\n",
    "################################# NMF for hair in color ##########################################\n",
    "\n",
    "s = time.time()\n",
    "\n",
    "lin_pics_color_for_hair = to_vector(data=colored_pic_for_hair)\n",
    "\n",
    "#nmf.fit(pics_lin)\n",
    "nmf = NMF(n_components=15)\n",
    "X_hair_col = nmf.fit_transform(lin_pics_color_for_hair)\n",
    "X_hair_col_NMF = preprocessing.scale(X_hair_col)\n",
    "\n",
    "\n",
    "\n",
    "print('Time to compute nmf.fit_transform for hair: ' + str(int(100*(time.time() - s)/60)/100) + ' min')\n",
    "\n",
    "################################ NMF for binary cases in color ###################################\n",
    "\n",
    "t = time.time()\n",
    "\n",
    "lin_pics_color_binary_case = to_vector(data=colored_pic_binary_case)\n",
    "\n",
    "#nmf.fit(pics_lin)\n",
    "nmf = NMF(n_components=15)\n",
    "X_binary_col = nmf.fit_transform(lin_pics_color_binary_case)\n",
    "X_binary_col_NMF = preprocessing.scale(X_binary_col)\n",
    "print('Time to compute nmf.fit_transform for binary data case: ' + str(int(100*(time.time() - t)/60)/100) + ' min')\n",
    "\n",
    "\n",
    "\n",
    "\n",
    "# NMF gives more accuracy for colored data rather than pca"
   ]
  },
  {
   "cell_type": "markdown",
   "metadata": {},
   "source": [
    "### Applying PCA in color"
   ]
  },
  {
   "cell_type": "code",
   "execution_count": 109,
   "metadata": {},
   "outputs": [
    {
     "name": "stdout",
     "output_type": "stream",
     "text": [
      "Time to compute PCA for hair in color: 5.63 min\n",
      "Time to compute PCA for binary data case in color: 6.66 min\n"
     ]
    }
   ],
   "source": [
    "################################## PCA for hair in color ####################################\n",
    "\n",
    "s = time.time()\n",
    "\n",
    "\n",
    "\n",
    "X_hair_col_PCA = np.array([preprocessing.scale(colored_pic_for_hair[k]) for k in range(len(colored_pic_for_hair))])\n",
    "X_hair_col_PCA = to_vector(data=X_hair_col_PCA)\n",
    "\n",
    "pca = PCA()\n",
    "pca.fit(X_hair_col_PCA)\n",
    "\n",
    "# searching for number of component to keep\n",
    "\n",
    "\n",
    "k99 = extract_var(v_exp, x=.99)\n",
    "pca99 = PCA(n_components=k99)\n",
    "\n",
    "X_hair_col_PCA = pca99.fit_transform(X_hair_col_PCA)\n",
    "\n",
    "print('Time to compute PCA for hair in color: ' + str(int(100*(time.time() - s)/60)/100) + ' min')\n",
    "\n",
    "\n",
    "\n",
    "\n",
    "\n",
    "################################## PCA for binary case in color ####################################\n",
    "\n",
    "t = time.time()\n",
    "\n",
    "\n",
    "X_binary_col_PCA = np.array([preprocessing.scale(colored_pic_binary_case[k]) for k in range(len(colored_pic_binary_case))])\n",
    "X_binary_col_PCA = to_vector(data=X_binary_col_PCA)\n",
    "\n",
    "pca = PCA()\n",
    "pca.fit(X_binary_col_PCA)\n",
    "\n",
    "\n",
    "# searching for number of component to keep\n",
    "\n",
    "\n",
    "X_binary_col_PCA = pca99.fit_transform(X_binary_col_PCA)\n",
    "\n",
    "print('Time to compute PCA for binary data case in color: ' + str(int(100*(time.time() - t)/60)/100) + ' min')\n",
    "\n",
    "\n",
    "\n",
    "\n",
    "\n",
    "\n",
    "\n",
    "\n"
   ]
  },
  {
   "cell_type": "markdown",
   "metadata": {},
   "source": [
    "# Human or Cartoon "
   ]
  },
  {
   "cell_type": "markdown",
   "metadata": {},
   "source": [
    "### In black and white"
   ]
  },
  {
   "cell_type": "code",
   "execution_count": 107,
   "metadata": {},
   "outputs": [
    {
     "name": "stdout",
     "output_type": "stream",
     "text": [
      "Cross Validation score for MLP classifier with NMF preprocessing: 99.32066480010423%\n",
      "Cross Validation score for MLP classifier with PCA preprocessing: 98.62003314709459%\n",
      "\n",
      "Cross Validation score for Random Forest classifier (gini) with NMF preprocessing: 97.5905402744672%\n",
      "Cross Validation score for Random Forest classifier (gini) with PCA preprocessing: 83.74381687575033%\n",
      "\n",
      "Cross Validation score for SVM linear kernel with NMF preprocessing: 97.23966293021381%\n",
      "Cross Validation score for SVM linear kernel with PCA preprocessing: 98.99206293452201%\n",
      "\n",
      "Cross Validation score for SVM polynomial kernel with NMF preprocessing: 98.1159348995201%\n",
      "Cross Validation score for SVM polynomial kernel with PCA preprocessing: 97.63393945483281%\n",
      "\n"
     ]
    }
   ],
   "source": [
    "\n",
    "Y_human = np.array(df['human'])\n",
    "\n",
    "\n",
    "###################################### Cross validation score #############################################\n",
    "\n",
    "#mlp classifier\n",
    "c1_h_bw_NMF = np.mean(cross_val_score(MLPClassifier(), X_binary_bw_NMF, Y_human, cv=6))\n",
    "print('Cross Validation score for MLP classifier with NMF preprocessing: ' + str(100*c1_h_bw_NMF) + '%')\n",
    "\n",
    "c1_h_bw_PCA = np.mean(cross_val_score(MLPClassifier(), X_binary_bw_PCA, Y_human, cv=6))\n",
    "print('Cross Validation score for MLP classifier with PCA preprocessing: ' + str(100*c1_h_bw_PCA) + '%')\n",
    "print('')\n",
    "\n",
    "\n",
    "# Random Forest classifier (gini)\n",
    "c2_h_bw_NMF = np.mean(cross_val_score(RandomForestClassifier(criterion='gini'), X_binary_bw_NMF, Y_human, cv=6))\n",
    "print('Cross Validation score for Random Forest classifier (gini) with NMF preprocessing: ' + str(100*c2_h_bw_NMF) + '%')\n",
    "\n",
    "c2_h_bw_PCA = np.mean(cross_val_score(RandomForestClassifier(criterion='gini'), X_binary_bw_PCA, Y_human, cv=6))\n",
    "print('Cross Validation score for Random Forest classifier (gini) with PCA preprocessing: ' + str(100*c2_h_bw_PCA) + '%')\n",
    "print('')\n",
    "\n",
    "\n",
    "\n",
    "# SVM linear kernel\n",
    "c3_h_bw_NMF = np.mean(cross_val_score(SVC(kernel='linear'), X_binary_bw_NMF, Y_human, cv=6))\n",
    "print('Cross Validation score for SVM linear kernel with NMF preprocessing: ' + str(100*c3_h_bw_NMF) + '%')\n",
    "\n",
    "c3_h_bw_PCA = np.mean(cross_val_score(SVC(kernel='linear'), X_binary_bw_PCA, Y_human, cv=6))\n",
    "print('Cross Validation score for SVM linear kernel with PCA preprocessing: ' + str(100*c3_h_bw_PCA) + '%')\n",
    "print('')\n",
    "\n",
    "\n",
    "\n",
    "# SVM polynomial kernel\n",
    "c4_h_bw_NMF = np.mean(cross_val_score(SVC(kernel='poly'), X_binary_bw_NMF, Y_human, cv=6))\n",
    "print('Cross Validation score for SVM polynomial kernel with NMF preprocessing: ' + str(100*c4_h_bw_NMF) + '%')\n",
    "\n",
    "c4_h_bw_PCA = np.mean(cross_val_score(SVC(kernel='poly'), X_binary_bw_PCA, Y_human, cv=6))\n",
    "print('Cross Validation score for SVM polynomial kernel with PCA preprocessing: ' + str(100*c4_h_bw_PCA) + '%')\n",
    "print('')\n",
    "\n",
    "\n"
   ]
  },
  {
   "cell_type": "markdown",
   "metadata": {},
   "source": [
    "### In color"
   ]
  },
  {
   "cell_type": "code",
   "execution_count": 95,
   "metadata": {
    "scrolled": false
   },
   "outputs": [
    {
     "name": "stdout",
     "output_type": "stream",
     "text": [
      "(3804,) (761,) 4565\n",
      "(3804, 15) (761, 15) 4565\n",
      "Score of classifier: 0.9894875164257556\n",
      "(761, 2)\n",
      "(762, 2)\n"
     ]
    }
   ],
   "source": [
    "# Various splitting and naming\n",
    "smpl, indM = createSets(fl_nm_col)\n",
    "names_for_train, names_for_test = smpl[:indM], smpl[indM:]\n",
    "print(names_for_train.shape, names_for_test.shape, names_for_train.shape[0] + names_for_test.shape[0])\n",
    "\n",
    "\n",
    "X_train, X_test = X_binary_col_NMF[names_for_train], X_binary_col_NMF[names_for_test]\n",
    "Y_train, Y_test = Y_human[names_for_train], Y_human[names_for_test]\n",
    "\n",
    "print(X_train.shape, X_test.shape, X_train.shape[0] + X_test.shape[0])\n",
    "\n",
    "# Toy example\n",
    "clf = MLPClassifier()\n",
    "clf.fit(X_train, Y_train)\n",
    "\n",
    "\n",
    "# Export data\n",
    "\n",
    "score = clf.score(X_test, Y_test)\n",
    "predictions = clf.predict(X_test)\n",
    "\n",
    "d = {'X test (file name)': [str(names_for_test[k])+'.png' for k in range(len(names_for_test))], 'Y predicted': predictions}\n",
    "df_exp = pd.DataFrame(data=d)\n",
    "print('Score of classifier:', score)\n",
    "# pd.DataFrame(X_names, predictions, columns=['X test (file name)', 'Y predicted'])\n",
    "# add target in csv\n",
    "# df_exp['Y target'] = Y_test\n",
    "# print(df_exp)\n",
    "print(df_exp.shape)\n",
    "\n",
    "df_exp.loc[-1] = [str(score), np.nan]\n",
    "df_exp.index = df_exp.index + 1\n",
    "df_exp = df_exp.sort_index()  # sorting by index\n",
    "# df_exp['Y predicted'][1:].apply(lambda x : int(x))\n",
    "# print(df_exp)\n",
    "print(df_exp.shape)\n",
    "df_exp.to_csv(path_or_buf='task_1.csv', header=False, index=False)"
   ]
  },
  {
   "cell_type": "code",
   "execution_count": 59,
   "metadata": {},
   "outputs": [
    {
     "name": "stdout",
     "output_type": "stream",
     "text": [
      "Cross Validation score for MLP classifier with NMF preprocessing: 99.12358424766029%\n",
      "Cross Validation score for MLP classifier with PCA preprocessing: 98.79509757490287%\n",
      "\n",
      "Cross Validation score for Random Forest classifier (gini) with NMF preprocessing: 97.30559664074427%\n",
      "Cross Validation score for Random Forest classifier (gini) with PCA preprocessing: 84.5557660944571%\n",
      "\n",
      "Cross Validation score for SVM linear kernel with NMF preprocessing: 96.8890161228809%\n",
      "Cross Validation score for SVM linear kernel with PCA preprocessing: 99.21115968723704%\n",
      "\n",
      "Cross Validation score for SVM polynomial kernel with NMF preprocessing: 98.20345270486669%\n",
      "Cross Validation score for SVM polynomial kernel with PCA preprocessing: 97.54624882243132%\n",
      "\n"
     ]
    }
   ],
   "source": [
    "Y_human = np.array(df['human'])\n",
    "\n",
    "\n",
    "###################################### Cross validation score #############################################\n",
    "\n",
    "#mlp classifier\n",
    "c1_h_col_NMF = np.mean(cross_val_score(MLPClassifier(), X_binary_col_NMF, Y_human, cv=6))\n",
    "print('Cross Validation score for MLP classifier with NMF preprocessing: ' + str(100*c1_h_col_NMF) + '%')\n",
    "\n",
    "c1_h_col_PCA = np.mean(cross_val_score(MLPClassifier(), X_binary_col_PCA, Y_human, cv=6))\n",
    "print('Cross Validation score for MLP classifier with PCA preprocessing: ' + str(100*c1_h_col_PCA) + '%')\n",
    "print('')\n",
    "\n",
    "\n",
    "# Random Forest classifier (gini)\n",
    "c2_h_col_NMF = np.mean(cross_val_score(RandomForestClassifier(criterion='gini'), X_binary_col_NMF, Y_human, cv=6))\n",
    "print('Cross Validation score for Random Forest classifier (gini) with NMF preprocessing: ' + str(100*c2_h_col_NMF) + '%')\n",
    "\n",
    "c2_h_col_PCA = np.mean(cross_val_score(RandomForestClassifier(criterion='gini'), X_binary_col_PCA, Y_human, cv=6))\n",
    "print('Cross Validation score for Random Forest classifier (gini) with PCA preprocessing: ' + str(100*c2_h_col_PCA) + '%')\n",
    "print('')\n",
    "\n",
    "\n",
    "# SVM linear kernel\n",
    "c3_h_col_NMF = np.mean(cross_val_score(SVC(kernel='linear'), X_binary_col_NMF, Y_human, cv=6))\n",
    "print('Cross Validation score for SVM linear kernel with NMF preprocessing: ' + str(100*c3_h_col_NMF) + '%')\n",
    "\n",
    "c3_h_col_PCA = np.mean(cross_val_score(SVC(kernel='linear'), X_binary_col_PCA, Y_human, cv=6))\n",
    "print('Cross Validation score for SVM linear kernel with PCA preprocessing: ' + str(100*c3_h_col_PCA) + '%')\n",
    "print('')\n",
    "\n",
    "\n",
    "\n",
    "# SVM polynomial kernel\n",
    "c4_h_col_NMF = np.mean(cross_val_score(SVC(kernel='poly'), X_binary_col_NMF, Y_human, cv=6))\n",
    "print('Cross Validation score for SVM polynomial kernel with NMF preprocessing: ' + str(100*c4_h_col_NMF) + '%')\n",
    "\n",
    "c4_h_col_PCA = np.mean(cross_val_score(SVC(kernel='poly'), X_binary_col_PCA, Y_human, cv=6))\n",
    "print('Cross Validation score for SVM polynomial kernel with PCA preprocessing: ' + str(100*c4_h_col_PCA) + '%')\n",
    "print('')\n",
    "\n",
    "\n",
    "\n"
   ]
  },
  {
   "cell_type": "markdown",
   "metadata": {},
   "source": [
    "# Young or old "
   ]
  },
  {
   "cell_type": "markdown",
   "metadata": {},
   "source": [
    "### In black and white"
   ]
  },
  {
   "cell_type": "code",
   "execution_count": 110,
   "metadata": {},
   "outputs": [
    {
     "name": "stdout",
     "output_type": "stream",
     "text": [
      "Cross Validation score for MLP classifier with NMF preprocessing: 79.18949398174595%\n",
      "Cross Validation score for MLP classifier with PCA preprocessing: 77.08682217077799%\n",
      "\n",
      "Cross Validation score for Random Forest classifier (gini) with NMF preprocessing: 78.02871055980717%\n",
      "Cross Validation score for Random Forest classifier (gini) with PCA preprocessing: 75.00590682786824%\n",
      "\n",
      "Cross Validation score for SVM linear kernel with NMF preprocessing: 79.16762239649846%\n",
      "Cross Validation score for SVM linear kernel with PCA preprocessing: 72.13580627444045%\n",
      "\n",
      "Cross Validation score for SVM polynomial kernel with NMF preprocessing: 79.29911496815717%\n",
      "Cross Validation score for SVM polynomial kernel with PCA preprocessing: 79.2770124678118%\n",
      "\n"
     ]
    }
   ],
   "source": [
    "Y_young = np.array(df['young'])\n",
    "\n",
    "\n",
    "\n",
    "###################################### Cross validation score #############################################\n",
    "\n",
    "#mlp classifier\n",
    "c1_y_bw_NMF = np.mean(cross_val_score(MLPClassifier(), X_binary_bw_NMF, Y_young, cv=6))\n",
    "print('Cross Validation score for MLP classifier with NMF preprocessing: ' + str(100*c1_y_bw_NMF) + '%')\n",
    "\n",
    "c1_y_bw_PCA = np.mean(cross_val_score(MLPClassifier(), X_binary_bw_PCA, Y_young, cv=6))\n",
    "print('Cross Validation score for MLP classifier with PCA preprocessing: ' + str(100*c1_y_bw_PCA) + '%')\n",
    "print('')\n",
    "\n",
    "\n",
    "\n",
    "# Random Forest classifier (gini)\n",
    "c2_y_bw_NMF = np.mean(cross_val_score(RandomForestClassifier(criterion='gini'), X_binary_bw_NMF, Y_young, cv=6))\n",
    "print('Cross Validation score for Random Forest classifier (gini) with NMF preprocessing: ' + str(100*c2_y_bw_NMF) + '%')\n",
    "\n",
    "c2_y_bw_PCA = np.mean(cross_val_score(RandomForestClassifier(criterion='gini'), X_binary_bw_PCA, Y_young, cv=6))\n",
    "print('Cross Validation score for Random Forest classifier (gini) with PCA preprocessing: ' + str(100*c2_y_bw_PCA) + '%')\n",
    "print('')\n",
    "\n",
    "\n",
    "\n",
    "# SVM linear kernel\n",
    "c3_y_bw_NMF = np.mean(cross_val_score(SVC(kernel='linear'), X_binary_bw_NMF, Y_young, cv=6))\n",
    "print('Cross Validation score for SVM linear kernel with NMF preprocessing: ' + str(100*c3_y_bw_NMF) + '%')\n",
    "\n",
    "c3_y_bw_PCA = np.mean(cross_val_score(SVC(kernel='linear'), X_binary_bw_PCA, Y_young, cv=6))\n",
    "print('Cross Validation score for SVM linear kernel with PCA preprocessing: ' + str(100*c3_y_bw_PCA) + '%')\n",
    "print('')\n",
    "\n",
    "\n",
    "\n",
    "\n",
    "# SVM polynomial kernel\n",
    "c4_y_bw_NMF = np.mean(cross_val_score(SVC(kernel='poly'), X_binary_bw_NMF, Y_young, cv=6))\n",
    "print('Cross Validation score for SVM polynomial kernel with NMF preprocessing: ' + str(100*c4_y_bw_NMF) + '%')\n",
    "\n",
    "c4_y_bw_PCA = np.mean(cross_val_score(SVC(kernel='poly'), X_binary_bw_PCA, Y_young, cv=6))\n",
    "print('Cross Validation score for SVM polynomial kernel with PCA preprocessing: ' + str(100*c4_y_bw_PCA) + '%')\n",
    "print('')"
   ]
  },
  {
   "cell_type": "markdown",
   "metadata": {},
   "source": [
    "### In color"
   ]
  },
  {
   "cell_type": "code",
   "execution_count": 60,
   "metadata": {},
   "outputs": [
    {
     "name": "stdout",
     "output_type": "stream",
     "text": [
      "Cross Validation score for MLP classifier with NMF preprocessing: 79.51875796025533%\n",
      "Cross Validation score for MLP classifier with PCA preprocessing: 75.13693968712448%\n",
      "\n",
      "Cross Validation score for Random Forest classifier (gini) with NMF preprocessing: 78.18288121775772%\n",
      "Cross Validation score for Random Forest classifier (gini) with PCA preprocessing: 74.52330728266134%\n",
      "\n",
      "Cross Validation score for SVM linear kernel with NMF preprocessing: 79.16762239649846%\n",
      "Cross Validation score for SVM linear kernel with PCA preprocessing: 68.56504434326234%\n",
      "\n",
      "Cross Validation score for SVM polynomial kernel with NMF preprocessing: 79.54011257704758%\n",
      "Cross Validation score for SVM polynomial kernel with PCA preprocessing: 79.29885584102804%\n",
      "\n"
     ]
    }
   ],
   "source": [
    "Y_young = np.array(df['young'])\n",
    "\n",
    "\n",
    "###################################### Cross validation score #############################################\n",
    "\n",
    "#mlp classifier\n",
    "c1_y_col_NMF = np.mean(cross_val_score(MLPClassifier(), X_binary_col_NMF, Y_young, cv=6))\n",
    "print('Cross Validation score for MLP classifier with NMF preprocessing: ' + str(100*c1_y_col_NMF) + '%')\n",
    "\n",
    "c1_y_col_PCA = np.mean(cross_val_score(MLPClassifier(), X_binary_col_PCA, Y_young, cv=6))\n",
    "print('Cross Validation score for MLP classifier with PCA preprocessing: ' + str(100*c1_y_col_PCA) + '%')\n",
    "\n",
    "print('')\n",
    "\n",
    "\n",
    "\n",
    "\n",
    "# Random Forest classifier (gini)\n",
    "c2_y_col_NMF = np.mean(cross_val_score(RandomForestClassifier(criterion='gini'), X_binary_col_NMF, Y_young, cv=6))\n",
    "print('Cross Validation score for Random Forest classifier (gini) with NMF preprocessing: ' + str(100*c2_y_col_NMF) + '%')\n",
    "\n",
    "c2_y_col_PCA = np.mean(cross_val_score(RandomForestClassifier(criterion='gini'), X_binary_col_PCA, Y_young, cv=6))\n",
    "print('Cross Validation score for Random Forest classifier (gini) with PCA preprocessing: ' + str(100*c2_y_col_PCA) + '%')\n",
    "\n",
    "print('')\n",
    "\n",
    "\n",
    "\n",
    "# SVM linear kernel\n",
    "c3_y_col_NMF = np.mean(cross_val_score(SVC(kernel='linear'), X_binary_col_NMF, Y_young, cv=6))\n",
    "print('Cross Validation score for SVM linear kernel with NMF preprocessing: ' + str(100*c3_y_col_NMF) + '%')\n",
    "\n",
    "c3_y_col_PCA = np.mean(cross_val_score(SVC(kernel='linear'), X_binary_col_PCA, Y_young, cv=6))\n",
    "print('Cross Validation score for SVM linear kernel with PCA preprocessing: ' + str(100*c3_y_col_PCA) + '%')\n",
    "\n",
    "print('')\n",
    "\n",
    "\n",
    "\n",
    "# SVM polynomial kernel\n",
    "c4_y_col_NMF = np.mean(cross_val_score(SVC(kernel='poly'), X_binary_col_NMF, Y_young, cv=6))\n",
    "print('Cross Validation score for SVM polynomial kernel with NMF preprocessing: ' + str(100*c4_y_col_NMF) + '%')\n",
    "\n",
    "c4_y_col_PCA = np.mean(cross_val_score(SVC(kernel='poly'), X_binary_col_PCA, Y_young, cv=6))\n",
    "print('Cross Validation score for SVM polynomial kernel with PCA preprocessing: ' + str(100*c4_y_col_PCA) + '%')\n",
    "\n",
    "print('')\n",
    "\n",
    "\n",
    "\n",
    "\n",
    "\n"
   ]
  },
  {
   "cell_type": "markdown",
   "metadata": {},
   "source": [
    "# Smiling or not Smiling "
   ]
  },
  {
   "cell_type": "markdown",
   "metadata": {},
   "source": [
    "### In black and white"
   ]
  },
  {
   "cell_type": "code",
   "execution_count": 111,
   "metadata": {},
   "outputs": [
    {
     "name": "stdout",
     "output_type": "stream",
     "text": [
      "Cross Validation score for MLP classifier with NMF preprocessing: 81.38038602469456%\n",
      "Cross Validation score for MLP classifier with PCA preprocessing: 87.40388803844363%\n",
      "\n",
      "Cross Validation score for Random Forest classifier (gini) with NMF preprocessing: 79.62672056329426%\n",
      "Cross Validation score for Random Forest classifier (gini) with PCA preprocessing: 79.01452893894869%\n",
      "\n",
      "Cross Validation score for SVM linear kernel with NMF preprocessing: 79.60571243260199%\n",
      "Cross Validation score for SVM linear kernel with PCA preprocessing: 87.75456396543349%\n",
      "\n",
      "Cross Validation score for SVM polynomial kernel with NMF preprocessing: 80.76655295932257%\n",
      "Cross Validation score for SVM polynomial kernel with PCA preprocessing: 85.36666034959201%\n",
      "\n"
     ]
    }
   ],
   "source": [
    "Y_smiling = np.array(df['smiling'])\n",
    "\n",
    "\n",
    "\n",
    "###################################### Cross validation score #############################################\n",
    "\n",
    "#mlp classifier\n",
    "c1_s_bw_NMF = np.mean(cross_val_score(MLPClassifier(), X_binary_bw_NMF, Y_smiling, cv=6))\n",
    "print('Cross Validation score for MLP classifier with NMF preprocessing: ' + str(100*c1_s_bw_NMF) + '%')\n",
    "\n",
    "c1_s_bw_PCA = np.mean(cross_val_score(MLPClassifier(), X_binary_bw_PCA, Y_smiling, cv=6))\n",
    "print('Cross Validation score for MLP classifier with PCA preprocessing: ' + str(100*c1_s_bw_PCA) + '%')\n",
    "print('')\n",
    "\n",
    "\n",
    "\n",
    "# Random Forest classifier (gini)\n",
    "c2_s_bw_NMF = np.mean(cross_val_score(RandomForestClassifier(criterion='gini'), X_binary_bw_NMF, Y_smiling, cv=6))\n",
    "print('Cross Validation score for Random Forest classifier (gini) with NMF preprocessing: ' + str(100*c2_s_bw_NMF) + '%')\n",
    "\n",
    "c2_s_bw_PCA = np.mean(cross_val_score(RandomForestClassifier(criterion='gini'), X_binary_bw_PCA, Y_smiling, cv=6))\n",
    "print('Cross Validation score for Random Forest classifier (gini) with PCA preprocessing: ' + str(100*c2_s_bw_PCA) + '%')\n",
    "print('')\n",
    "\n",
    "\n",
    "\n",
    "# SVM linear kernel\n",
    "c3_s_bw_NMF = np.mean(cross_val_score(SVC(kernel='linear'), X_binary_bw_NMF, Y_smiling, cv=6))\n",
    "print('Cross Validation score for SVM linear kernel with NMF preprocessing: ' + str(100*c3_s_bw_NMF) + '%')\n",
    "\n",
    "c3_s_bw_PCA = np.mean(cross_val_score(SVC(kernel='linear'), X_binary_bw_PCA, Y_smiling, cv=6))\n",
    "print('Cross Validation score for SVM linear kernel with PCA preprocessing: ' + str(100*c3_s_bw_PCA) + '%')\n",
    "print('')\n",
    "\n",
    "\n",
    "\n",
    "\n",
    "# SVM polynomial kernel\n",
    "c4_s_bw_NMF = np.mean(cross_val_score(SVC(kernel='poly'), X_binary_bw_NMF, Y_smiling, cv=6))\n",
    "print('Cross Validation score for SVM polynomial kernel with NMF preprocessing: ' + str(100*c4_s_bw_NMF) + '%')\n",
    "\n",
    "c4_s_bw_PCA = np.mean(cross_val_score(SVC(kernel='poly'), X_binary_bw_PCA, Y_smiling, cv=6))\n",
    "print('Cross Validation score for SVM polynomial kernel with PCA preprocessing: ' + str(100*c4_s_bw_PCA) + '%')\n",
    "print('')\n",
    "\n",
    "\n",
    "\n"
   ]
  },
  {
   "cell_type": "markdown",
   "metadata": {},
   "source": [
    "### In color"
   ]
  },
  {
   "cell_type": "code",
   "execution_count": 61,
   "metadata": {},
   "outputs": [
    {
     "name": "stdout",
     "output_type": "stream",
     "text": [
      "Cross Validation score for MLP classifier with NMF preprocessing: 80.832198271796%\n",
      "Cross Validation score for MLP classifier with PCA preprocessing: 86.55029483614844%\n",
      "\n",
      "Cross Validation score for Random Forest classifier (gini) with NMF preprocessing : 79.43087778535947%\n",
      "Cross Validation score for Random Forest classifier (gini) with PCA preprocessing : 78.00638969985242%\n",
      "\n",
      "Cross Validation score for SVM linear kernel with NMF preprocessing: 79.60571243260199%\n",
      "Cross Validation score for SVM linear kernel with PCA preprocessing: 86.63732411197755%\n",
      "\n",
      "Cross Validation score for SVM polynomial kernel with NMF preprocessing: 81.37989658755136%\n",
      "Cross Validation score for SVM polynomial kernel with PCA preprocessing: 84.07435659777606%\n",
      "\n"
     ]
    }
   ],
   "source": [
    "Y_smiling = np.array(df['smiling'])\n",
    "\n",
    "\n",
    "###################################### Cross validation score #############################################\n",
    "\n",
    "#mlp classifier\n",
    "c1_s_col_NMF = np.mean(cross_val_score(MLPClassifier(), X_binary_col_NMF, Y_smiling, cv=6))\n",
    "print('Cross Validation score for MLP classifier with NMF preprocessing: ' + str(100*c1_s_col_NMF) + '%')\n",
    "\n",
    "c1_s_col_PCA = np.mean(cross_val_score(MLPClassifier(), X_binary_col_PCA, Y_smiling, cv=6))\n",
    "print('Cross Validation score for MLP classifier with PCA preprocessing: ' + str(100*c1_s_col_PCA) + '%')\n",
    "print('')\n",
    "\n",
    "\n",
    "# Random Forest classifier (gini)\n",
    "c2_s_col_NMF = np.mean(cross_val_score(RandomForestClassifier(criterion='gini'), X_binary_col_NMF, Y_smiling, cv=6))\n",
    "print('Cross Validation score for Random Forest classifier (gini) with NMF preprocessing : ' + str(100*c2_s_col_NMF) + '%')\n",
    "\n",
    "c2_s_col_PCA = np.mean(cross_val_score(RandomForestClassifier(criterion='gini'), X_binary_col_PCA, Y_smiling, cv=6))\n",
    "print('Cross Validation score for Random Forest classifier (gini) with PCA preprocessing : ' + str(100*c2_s_col_PCA) + '%')\n",
    "print('')\n",
    "\n",
    "\n",
    "\n",
    "# SVM linear kernel\n",
    "c3_s_col_NMF = np.mean(cross_val_score(SVC(kernel='linear'), X_binary_col_NMF, Y_smiling, cv=6))\n",
    "print('Cross Validation score for SVM linear kernel with NMF preprocessing: ' + str(100*c3_s_col_NMF) + '%')\n",
    "\n",
    "c3_s_col_PCA = np.mean(cross_val_score(SVC(kernel='linear'), X_binary_col_PCA, Y_smiling, cv=6))\n",
    "print('Cross Validation score for SVM linear kernel with PCA preprocessing: ' + str(100*c3_s_col_PCA) + '%')\n",
    "print('')\n",
    "\n",
    "\n",
    "\n",
    "# SVM polynomial kernel\n",
    "c4_s_col_NMF = np.mean(cross_val_score(SVC(kernel='poly'), X_binary_col_NMF, Y_smiling, cv=6))\n",
    "print('Cross Validation score for SVM polynomial kernel with NMF preprocessing: ' + str(100*c4_s_col_NMF) + '%')\n",
    "\n",
    "c4_s_col_PCA = np.mean(cross_val_score(SVC(kernel='poly'), X_binary_col_PCA, Y_smiling, cv=6))\n",
    "print('Cross Validation score for SVM polynomial kernel with PCA preprocessing: ' + str(100*c4_s_col_PCA) + '%')\n",
    "print('')\n",
    "\n",
    "\n"
   ]
  },
  {
   "cell_type": "markdown",
   "metadata": {},
   "source": [
    "# With or without eyeglasses "
   ]
  },
  {
   "cell_type": "markdown",
   "metadata": {},
   "source": [
    "### In black and white"
   ]
  },
  {
   "cell_type": "code",
   "execution_count": 112,
   "metadata": {},
   "outputs": [
    {
     "name": "stdout",
     "output_type": "stream",
     "text": [
      "Cross Validation score for MLP classifier with NMF preprocessing: 83.28591011891893%\n",
      "Cross Validation score for MLP classifier with PCA preprocessing: 85.78265726414878%\n",
      "\n",
      "Cross Validation score for Random Forest classifier (gini) with NMF preprocessing: 79.4744961573247%\n",
      "Cross Validation score for Random Forest classifier (gini) with PCA preprocessing: 72.46397656401601%\n",
      "\n",
      "Cross Validation score for SVM linear kernel with NMF preprocessing: 81.33677514064112%\n",
      "Cross Validation score for SVM linear kernel with PCA preprocessing: 85.3016404668415%\n",
      "\n",
      "Cross Validation score for SVM polynomial kernel with NMF preprocessing: 80.70106927985408%\n",
      "Cross Validation score for SVM polynomial kernel with PCA preprocessing: 85.2572049292303%\n",
      "\n"
     ]
    }
   ],
   "source": [
    "Y_eyeglasses = np.array(df['eyeglasses'])\n",
    "\n",
    "\n",
    "\n",
    "###################################### Cross validation score #############################################\n",
    "\n",
    "#mlp classifier\n",
    "c1_e_bw_NMF = np.mean(cross_val_score(MLPClassifier(), X_binary_bw_NMF, Y_eyeglasses, cv=6))\n",
    "print('Cross Validation score for MLP classifier with NMF preprocessing: ' + str(100*c1_e_bw_NMF) + '%')\n",
    "\n",
    "c1_e_bw_PCA = np.mean(cross_val_score(MLPClassifier(), X_binary_bw_PCA, Y_eyeglasses, cv=6))\n",
    "print('Cross Validation score for MLP classifier with PCA preprocessing: ' + str(100*c1_e_bw_PCA) + '%')\n",
    "print('')\n",
    "\n",
    "\n",
    "\n",
    "# Random Forest classifier (gini)\n",
    "c2_e_bw_NMF = np.mean(cross_val_score(RandomForestClassifier(criterion='gini'), X_binary_bw_NMF, Y_eyeglasses , cv=6))\n",
    "print('Cross Validation score for Random Forest classifier (gini) with NMF preprocessing: ' + str(100*c2_e_bw_NMF) + '%')\n",
    "\n",
    "c2_e_bw_PCA = np.mean(cross_val_score(RandomForestClassifier(criterion='gini'), X_binary_bw_PCA, Y_eyeglasses , cv=6))\n",
    "print('Cross Validation score for Random Forest classifier (gini) with PCA preprocessing: ' + str(100*c2_e_bw_PCA) + '%')\n",
    "print('')\n",
    "\n",
    "\n",
    "\n",
    "# SVM linear kernel\n",
    "c3_e_bw_NMF = np.mean(cross_val_score(SVC(kernel='linear'), X_binary_bw_NMF, Y_eyeglasses , cv=6))\n",
    "print('Cross Validation score for SVM linear kernel with NMF preprocessing: ' + str(100*c3_e_bw_NMF) + '%')\n",
    "\n",
    "c3_e_bw_PCA = np.mean(cross_val_score(SVC(kernel='linear'), X_binary_bw_PCA, Y_eyeglasses , cv=6))\n",
    "print('Cross Validation score for SVM linear kernel with PCA preprocessing: ' + str(100*c3_e_bw_PCA) + '%')\n",
    "print('')\n",
    "\n",
    "\n",
    "\n",
    "# SVM polynomial kernel\n",
    "c4_e_bw_NMF = np.mean(cross_val_score(SVC(kernel='poly'), X_binary_bw_NMF, Y_eyeglasses, cv=6))\n",
    "print('Cross Validation score for SVM polynomial kernel with NMF preprocessing: ' + str(100*c4_e_bw_NMF) + '%')\n",
    "\n",
    "c4_e_bw_PCA = np.mean(cross_val_score(SVC(kernel='poly'), X_binary_bw_PCA, Y_eyeglasses, cv=6))\n",
    "print('Cross Validation score for SVM polynomial kernel with PCA preprocessing: ' + str(100*c4_e_bw_PCA) + '%')\n",
    "print('')\n",
    "\n",
    "\n"
   ]
  },
  {
   "cell_type": "markdown",
   "metadata": {},
   "source": [
    "### In color "
   ]
  },
  {
   "cell_type": "code",
   "execution_count": 62,
   "metadata": {
    "scrolled": true
   },
   "outputs": [
    {
     "name": "stdout",
     "output_type": "stream",
     "text": [
      "Cross Validation score for MLP classifier with NMF preprocessing : 84.1183795438842%\n",
      "Cross Validation score for MLP classifier with PCA preprocessing : 84.95082007609896%\n",
      "\n",
      "Cross Validation score for Random Forest classifier (gini) with NMF preprocessing : 81.27003576105652%\n",
      "Cross Validation score for Random Forest classifier (gini) with PCA preprocessing : 72.26580209573189%\n",
      "\n",
      "Cross Validation score for SVM linear kernel with NMF preprocessing: 83.066640539149%\n",
      "Cross Validation score for SVM linear kernel with PCA preprocessing: 83.61497252889382%\n",
      "\n",
      "Cross Validation score for SVM polynomial kernel with NMF preprocessing: 80.78852967787698%\n",
      "Cross Validation score for SVM polynomial kernel with PCA preprocessing: 85.0165525962723%\n",
      "\n"
     ]
    }
   ],
   "source": [
    "Y_eyeglasses = np.array(df['eyeglasses'])\n",
    "\n",
    "\n",
    "###################################### Cross validation score #############################################\n",
    "\n",
    "#mlp classifier\n",
    "c1_e_col_NMF = np.mean(cross_val_score(MLPClassifier(), X_binary_col_NMF, Y_eyeglasses, cv=6))\n",
    "print('Cross Validation score for MLP classifier with NMF preprocessing : ' + str(100*c1_e_col_NMF) + '%')\n",
    "\n",
    "c1_e_col_PCA = np.mean(cross_val_score(MLPClassifier(), X_binary_col_PCA, Y_eyeglasses, cv=6))\n",
    "print('Cross Validation score for MLP classifier with PCA preprocessing : ' + str(100*c1_e_col_PCA) + '%')\n",
    "print('')\n",
    "\n",
    "\n",
    "# Random Forest classifier (gini)\n",
    "c2_e_col_NMF = np.mean(cross_val_score(RandomForestClassifier(criterion='gini'), X_binary_col_NMF, Y_eyeglasses, cv=6))\n",
    "print('Cross Validation score for Random Forest classifier (gini) with NMF preprocessing : ' + str(100*c2_e_col_NMF) + '%')\n",
    "\n",
    "c2_e_col_PCA = np.mean(cross_val_score(RandomForestClassifier(criterion='gini'), X_binary_col_PCA, Y_eyeglasses, cv=6))\n",
    "print('Cross Validation score for Random Forest classifier (gini) with PCA preprocessing : ' + str(100*c2_e_col_PCA) + '%')\n",
    "print('')\n",
    "\n",
    "\n",
    "\n",
    "# SVM linear kernel\n",
    "c3_e_col_NMF = np.mean(cross_val_score(SVC(kernel='linear'), X_binary_col_NMF, Y_eyeglasses, cv=6))\n",
    "print('Cross Validation score for SVM linear kernel with NMF preprocessing: ' + str(100*c3_e_col_NMF) + '%')\n",
    "\n",
    "c3_e_col_PCA = np.mean(cross_val_score(SVC(kernel='linear'), X_binary_col_PCA, Y_eyeglasses, cv=6))\n",
    "print('Cross Validation score for SVM linear kernel with PCA preprocessing: ' + str(100*c3_e_col_PCA) + '%')\n",
    "print('')\n",
    "\n",
    "\n",
    "\n",
    "# SVM polynomial kernel\n",
    "c4_e_col_NMF = np.mean(cross_val_score(SVC(kernel='poly'), X_binary_col_NMF, Y_eyeglasses, cv=6))\n",
    "print('Cross Validation score for SVM polynomial kernel with NMF preprocessing: ' + str(100*c4_e_col_NMF) + '%')\n",
    "\n",
    "c4_e_col_PCA = np.mean(cross_val_score(SVC(kernel='poly'), X_binary_col_PCA, Y_eyeglasses, cv=6))\n",
    "print('Cross Validation score for SVM polynomial kernel with PCA preprocessing: ' + str(100*c4_e_col_PCA) + '%')\n",
    "print('')\n",
    "\n",
    "\n"
   ]
  },
  {
   "cell_type": "markdown",
   "metadata": {},
   "source": [
    "# Multiclass approach"
   ]
  },
  {
   "cell_type": "code",
   "execution_count": 56,
   "metadata": {},
   "outputs": [
    {
     "name": "stdout",
     "output_type": "stream",
     "text": [
      "Cross Validation score: 79.0575650690458%\n",
      "Cross Validation score for MLP classifier : 78.88258754639556%\n",
      "Cross Validation score for SVM polynomial kernel : 77.1954607280356%\n",
      "Time to compute this part:8.45 min\n"
     ]
    }
   ],
   "source": [
    "s = time.time()\n",
    "\n",
    "Y_multi = np.array(df[['human', 'young','eyeglasses','eyeglasses']])\n",
    "\n",
    "X_train_multi, X_test_multi, Y_train_multi, Y_test_multi = train_test_split(X_binary_col, Y_multi, test_size=0.3)\n",
    "\n",
    "# Cross validation score\n",
    "c1_multi = np.mean(cross_val_score(RandomForestClassifier(n_estimators=5000, criterion='entropy'), X_binary_col, Y_multi, cv=6))\n",
    "print('Cross Validation score: ' + str(100*c1_multi) + '%')\n",
    "\n",
    "#mlp classifier\n",
    "c2_multi = np.mean(cross_val_score(MLPClassifier(), X_binary_col, Y_multi, cv=6))\n",
    "print('Cross Validation score for MLP classifier : ' + str(100*c2_multi) + '%')\n",
    "\n",
    "# K-NN\n",
    "c3_multi = np.mean(cross_val_score(KNeighborsClassifier(n_neighbors=300), X_binary_col, Y_multi, cv=6))\n",
    "print('Cross Validation score for SVM polynomial kernel : ' + str(100*c3_multi) + '%')\n",
    "       \n",
    "\n",
    "\n",
    "print(\"Time to compute this part:\" + str(int(100*(time.time() - s)/60)/100) + ' min')"
   ]
  },
  {
   "cell_type": "markdown",
   "metadata": {},
   "source": [
    "# Hair color"
   ]
  },
  {
   "cell_type": "code",
   "execution_count": 71,
   "metadata": {},
   "outputs": [],
   "source": [
    "#defining Y data for hair\n",
    "\n",
    "df3 = df[df['hair_color'] != -1]\n",
    "Y_hair_color = np.array(df3['hair_color'])\n",
    "\n",
    "#we remove -1 values as they "
   ]
  },
  {
   "cell_type": "markdown",
   "metadata": {},
   "source": [
    "## Convolution"
   ]
  },
  {
   "cell_type": "markdown",
   "metadata": {},
   "source": [
    "### Model creation"
   ]
  },
  {
   "cell_type": "code",
   "execution_count": 25,
   "metadata": {},
   "outputs": [],
   "source": [
    "s = time.time()\n",
    "\n",
    "#create model\n",
    "model = Sequential()\n",
    "\n",
    "\n",
    "\n",
    "#add model layers\n",
    "\n",
    "\n",
    "model.add(Conv2D(nb_filter=16, activation='relu', nb_row=9, nb_col=9, border_mode='same', input_shape=(256, 256, 3)))\n",
    "model.add(Conv2D(nb_filter=32, activation='relu', nb_row=9, nb_col=9, border_mode='same'))\n",
    "model.add(Conv2D(nb_filter=32, activation='relu', nb_row=9, nb_col=9, border_mode='same'))\n",
    "model.add(MaxPooling2D(pool_size=(2, 2)))\n",
    "\n",
    "\n",
    "\n",
    "model.add(Flatten())\n",
    "\n",
    "model.add(Dense(output_dim=512, activation = 'tanh'))\n",
    "\n",
    "model.add(Dense(output_dim=256, activation = 'tanh'))\n",
    "\n",
    "model.add(Dense(output_dim=6, input_dim=256, activation='softmax'))\n",
    "\n",
    "'''model.add(Conv2D(32, kernel_size=3, activation='relu'))\n",
    "model.add(ZeroPadding2D((1,1)))\n",
    "model.add(Conv2D(32, kernel_size=3, activation='relu'))\n",
    "model.add(MaxPooling2D(pool_size=(2, 2)))\n",
    "model.add(ZeroPadding2D((1,1)))\n",
    "model.add(Conv2D(32, kernel_size=3, activation='relu'))\n",
    "model.add(ZeroPadding2D((1,1)))\n",
    "model.add(Conv2D(32, kernel_size=3, activation='relu'))\n",
    "model.add(MaxPooling2D(pool_size=(3, 3)))\n",
    "model.add(ZeroPadding2D((1,1)))\n",
    "model.add(Conv2D(32, kernel_size=3, activation='relu'))\n",
    "model.add(ZeroPadding2D((1,1)))\n",
    "model.add(Conv2D(32, kernel_size=3, activation='relu'))\n",
    "'''\n",
    "'''#model.add(Dropout(0.2))\n",
    "model.add(Flatten())\n",
    "\n",
    "model.add(Dense(128, activation='softmax'))\n",
    "model.add(Dense(6, activation='softmax'))\n",
    "'''\n",
    "#Compiling\n",
    "model.compile(optimizer='adam', loss='categorical_crossentropy', metrics=['accuracy'])\n",
    "\n",
    "\n"
   ]
  },
  {
   "cell_type": "markdown",
   "metadata": {},
   "source": [
    "\n",
    "### Train and test the model with black and white data"
   ]
  },
  {
   "cell_type": "code",
   "execution_count": 28,
   "metadata": {},
   "outputs": [
    {
     "ename": "ValueError",
     "evalue": "Found input variables with inconsistent numbers of samples: [4565, 3902]",
     "output_type": "error",
     "traceback": [
      "\u001b[0;31m---------------------------------------------------------------------------\u001b[0m",
      "\u001b[0;31mValueError\u001b[0m                                Traceback (most recent call last)",
      "\u001b[0;32m<ipython-input-28-0d696f47b70f>\u001b[0m in \u001b[0;36m<module>\u001b[0;34m\u001b[0m\n\u001b[1;32m      8\u001b[0m \u001b[0;31m# Splitting for black and white\u001b[0m\u001b[0;34m\u001b[0m\u001b[0;34m\u001b[0m\u001b[0m\n\u001b[1;32m      9\u001b[0m X_train_hair_col_conv, X_test_hair_col_conv, Y_train_hair_col_conv, Y_test_hair_col_conv = train_test_split(pics_no_noise, \n\u001b[0;32m---> 10\u001b[0;31m                                                                                     Y_hair_color, test_size=0.2)\n\u001b[0m\u001b[1;32m     11\u001b[0m \u001b[0;34m\u001b[0m\u001b[0m\n\u001b[1;32m     12\u001b[0m '''a,b,c = X_train_hair_bw.shape\n",
      "\u001b[0;32m~/anaconda3/lib/python3.6/site-packages/sklearn/model_selection/_split.py\u001b[0m in \u001b[0;36mtrain_test_split\u001b[0;34m(*arrays, **options)\u001b[0m\n\u001b[1;32m   2182\u001b[0m         \u001b[0mtest_size\u001b[0m \u001b[0;34m=\u001b[0m \u001b[0;36m0.25\u001b[0m\u001b[0;34m\u001b[0m\u001b[0m\n\u001b[1;32m   2183\u001b[0m \u001b[0;34m\u001b[0m\u001b[0m\n\u001b[0;32m-> 2184\u001b[0;31m     \u001b[0marrays\u001b[0m \u001b[0;34m=\u001b[0m \u001b[0mindexable\u001b[0m\u001b[0;34m(\u001b[0m\u001b[0;34m*\u001b[0m\u001b[0marrays\u001b[0m\u001b[0;34m)\u001b[0m\u001b[0;34m\u001b[0m\u001b[0m\n\u001b[0m\u001b[1;32m   2185\u001b[0m \u001b[0;34m\u001b[0m\u001b[0m\n\u001b[1;32m   2186\u001b[0m     \u001b[0;32mif\u001b[0m \u001b[0mshuffle\u001b[0m \u001b[0;32mis\u001b[0m \u001b[0;32mFalse\u001b[0m\u001b[0;34m:\u001b[0m\u001b[0;34m\u001b[0m\u001b[0m\n",
      "\u001b[0;32m~/anaconda3/lib/python3.6/site-packages/sklearn/utils/validation.py\u001b[0m in \u001b[0;36mindexable\u001b[0;34m(*iterables)\u001b[0m\n\u001b[1;32m    258\u001b[0m         \u001b[0;32melse\u001b[0m\u001b[0;34m:\u001b[0m\u001b[0;34m\u001b[0m\u001b[0m\n\u001b[1;32m    259\u001b[0m             \u001b[0mresult\u001b[0m\u001b[0;34m.\u001b[0m\u001b[0mappend\u001b[0m\u001b[0;34m(\u001b[0m\u001b[0mnp\u001b[0m\u001b[0;34m.\u001b[0m\u001b[0marray\u001b[0m\u001b[0;34m(\u001b[0m\u001b[0mX\u001b[0m\u001b[0;34m)\u001b[0m\u001b[0;34m)\u001b[0m\u001b[0;34m\u001b[0m\u001b[0m\n\u001b[0;32m--> 260\u001b[0;31m     \u001b[0mcheck_consistent_length\u001b[0m\u001b[0;34m(\u001b[0m\u001b[0;34m*\u001b[0m\u001b[0mresult\u001b[0m\u001b[0;34m)\u001b[0m\u001b[0;34m\u001b[0m\u001b[0m\n\u001b[0m\u001b[1;32m    261\u001b[0m     \u001b[0;32mreturn\u001b[0m \u001b[0mresult\u001b[0m\u001b[0;34m\u001b[0m\u001b[0m\n\u001b[1;32m    262\u001b[0m \u001b[0;34m\u001b[0m\u001b[0m\n",
      "\u001b[0;32m~/anaconda3/lib/python3.6/site-packages/sklearn/utils/validation.py\u001b[0m in \u001b[0;36mcheck_consistent_length\u001b[0;34m(*arrays)\u001b[0m\n\u001b[1;32m    233\u001b[0m     \u001b[0;32mif\u001b[0m \u001b[0mlen\u001b[0m\u001b[0;34m(\u001b[0m\u001b[0muniques\u001b[0m\u001b[0;34m)\u001b[0m \u001b[0;34m>\u001b[0m \u001b[0;36m1\u001b[0m\u001b[0;34m:\u001b[0m\u001b[0;34m\u001b[0m\u001b[0m\n\u001b[1;32m    234\u001b[0m         raise ValueError(\"Found input variables with inconsistent numbers of\"\n\u001b[0;32m--> 235\u001b[0;31m                          \" samples: %r\" % [int(l) for l in lengths])\n\u001b[0m\u001b[1;32m    236\u001b[0m \u001b[0;34m\u001b[0m\u001b[0m\n\u001b[1;32m    237\u001b[0m \u001b[0;34m\u001b[0m\u001b[0m\n",
      "\u001b[0;31mValueError\u001b[0m: Found input variables with inconsistent numbers of samples: [4565, 3902]"
     ]
    }
   ],
   "source": [
    "\n",
    "\n",
    "#impotring pictures for hair color as black and whigte. we delete \"-1\" values because they are missing values\n",
    "\n",
    "#pics_hair_col_conv = import_pictures(df_hair, _as_black_white=False)\n",
    "\n",
    "\n",
    "# Splitting for black and white\n",
    "X_train_hair_col_conv, X_test_hair_col_conv, Y_train_hair_col_conv, Y_test_hair_col_conv = train_test_split(pics_no_noise, \n",
    "                                                                                    Y_hair_color, test_size=0.2)\n",
    "\n",
    "'''a,b,c = X_train_hair_bw.shape\n",
    "d,e,f = X_test_hair_bw.shape\n",
    "X_train_hair_bw = X_train_hair_bw.reshape(a,b,c,1)\n",
    "X_test_hair_bw = X_test_hair_bw.reshape(d,e,f,1)\n",
    "Y_train_hair_bw = to_categorical(Y_train_hair_bw)\n",
    "Y_test_hair_bw = to_categorical(Y_test_hair_bw)'''\n",
    "\n",
    "\n",
    "\n",
    "Y_train_hair_col_conv = to_categorical(Y_train_hair_col_conv)\n",
    "Y_test_hair_col_conv = to_categorical(Y_test_hair_col_conv)\n",
    "\n",
    "model.fit(X_train_hair_col_conv, Y_train_hair_col_conv, validation_data=(X_test_hair_col_conv, Y_test_hair_col_conv), epochs=1)\n",
    "\n",
    "\n",
    "\n",
    "\n",
    "\n",
    "\n"
   ]
  },
  {
   "cell_type": "code",
   "execution_count": null,
   "metadata": {},
   "outputs": [],
   "source": [
    "df3 = df[df['hair_color'] != -1]\n",
    "Y_hair_color = np.array(df3['hair_color'])\n",
    "clf_ada = AdaBoostClassifier(n_estimators=3000)\n",
    "scores = cross_val_score(clf_ada, X_hair_col, Y_hair_color, cv=6)\n",
    "scores.mean()                    \n",
    "\n"
   ]
  },
  {
   "cell_type": "markdown",
   "metadata": {},
   "source": [
    "### ML Classifier"
   ]
  },
  {
   "cell_type": "code",
   "execution_count": null,
   "metadata": {},
   "outputs": [],
   "source": []
  },
  {
   "cell_type": "markdown",
   "metadata": {},
   "source": [
    "### SVM Poly"
   ]
  },
  {
   "cell_type": "code",
   "execution_count": 40,
   "metadata": {},
   "outputs": [
    {
     "name": "stdout",
     "output_type": "stream",
     "text": [
      "Cross Validation score: 61.22240074058175%\n",
      "Time to compute this part: 0.22 min\n"
     ]
    }
   ],
   "source": [
    "s = time.time()\n",
    "df3 = df[df['hair_color'] != -1]\n",
    "Y_hair_color = np.array(df3['hair_color'])\n",
    "c1_hair = np.mean(cross_val_score(MLPClassifier(), X_hair_col, Y_hair_color, cv=6))\n",
    "\n",
    "print('Cross Validation score: ' + str(100*c1_hair) + '%')\n",
    "print(\"Time to compute this part: \" + str(int(100*(time.time() - s)/60)/100) + ' min')\n"
   ]
  },
  {
   "cell_type": "code",
   "execution_count": 60,
   "metadata": {},
   "outputs": [
    {
     "name": "stdout",
     "output_type": "stream",
     "text": [
      "Cross Validation score: 60.81555680774784%\n"
     ]
    }
   ],
   "source": [
    "dftest = df[df['hair_color'] != -1] \n",
    "Y_hair_color = np.array(df3['hair_color'])\n",
    "pics_hair = import_pictures(dftest, _as_black_white=True)\n",
    "pics_lin_hair = to_vector(data=pics_hair)\n",
    "\n",
    "nmf = NMF(n_components=15)\n",
    "W = nmf.fit_transform(pics_lin_hair)\n",
    "W = preprocessing.scale(W)\n",
    "\n",
    "Y_hair_test = np.array(dftest['hair_color'])\n",
    "c1_hair = np.mean(cross_val_score(MLPClassifier(), X_hair_col, Y_hair_color, cv=6))\n",
    "                       \n",
    "print('Cross Validation score: ' + str(100*c1_hair) + '%')\n",
    "                  \n",
    "                  "
   ]
  },
  {
   "cell_type": "code",
   "execution_count": 130,
   "metadata": {},
   "outputs": [
    {
     "name": "stdout",
     "output_type": "stream",
     "text": [
      "Cross Validation score: 50.33360935173713%\n"
     ]
    }
   ],
   "source": [
    "df3 = df[df['hair_color'] != -1]\n",
    "Y_hair_color = np.array(df3['hair_color'])\n",
    "\n",
    "c16 = np.mean(cross_val_score(SVC(kernel='linear'), X_hair_bw_PCA, Y_hair_color, cv=6))\n",
    "print('Cross Validation score: ' + str(100*c16) + '%')\n"
   ]
  },
  {
   "cell_type": "code",
   "execution_count": null,
   "metadata": {},
   "outputs": [],
   "source": [
    "#over 1000 n estimator, it is a flat curve converging to 67%, so in order to save time, we keep n not great\n",
    "\n",
    "c1111 = np.mean(cross_val_score(RandomForestClassifier(n_estimators=1000, criterion='entropy'), X_hair_col_PCA, Y_hair_color, cv=6))\n",
    "\n",
    "print('Cross Validation score: ' + str(100*c1111) + '%')\n",
    "\n"
   ]
  },
  {
   "cell_type": "code",
   "execution_count": 126,
   "metadata": {},
   "outputs": [
    {
     "ename": "NameError",
     "evalue": "name 'set_contrast' is not defined",
     "output_type": "error",
     "traceback": [
      "\u001b[0;31m---------------------------------------------------------------------------\u001b[0m",
      "\u001b[0;31mNameError\u001b[0m                                 Traceback (most recent call last)",
      "\u001b[0;32m<ipython-input-126-0cc09e9f00ec>\u001b[0m in \u001b[0;36m<module>\u001b[0;34m\u001b[0m\n\u001b[1;32m      2\u001b[0m \u001b[0mdftest\u001b[0m \u001b[0;34m=\u001b[0m \u001b[0mdf\u001b[0m\u001b[0;34m[\u001b[0m\u001b[0mdf\u001b[0m\u001b[0;34m[\u001b[0m\u001b[0;34m'hair_color'\u001b[0m\u001b[0;34m]\u001b[0m \u001b[0;34m!=\u001b[0m \u001b[0;34m-\u001b[0m\u001b[0;36m1\u001b[0m\u001b[0;34m]\u001b[0m\u001b[0;34m\u001b[0m\u001b[0m\n\u001b[1;32m      3\u001b[0m \u001b[0mY_hair_color\u001b[0m \u001b[0;34m=\u001b[0m \u001b[0mnp\u001b[0m\u001b[0;34m.\u001b[0m\u001b[0marray\u001b[0m\u001b[0;34m(\u001b[0m\u001b[0mdf3\u001b[0m\u001b[0;34m[\u001b[0m\u001b[0;34m'hair_color'\u001b[0m\u001b[0;34m]\u001b[0m\u001b[0;34m)\u001b[0m\u001b[0;34m\u001b[0m\u001b[0m\n\u001b[0;32m----> 4\u001b[0;31m \u001b[0mc15\u001b[0m \u001b[0;34m=\u001b[0m \u001b[0mnp\u001b[0m\u001b[0;34m.\u001b[0m\u001b[0mmean\u001b[0m\u001b[0;34m(\u001b[0m\u001b[0mcross_val_score\u001b[0m\u001b[0;34m(\u001b[0m\u001b[0mSVC\u001b[0m\u001b[0;34m(\u001b[0m\u001b[0mkernel\u001b[0m\u001b[0;34m=\u001b[0m\u001b[0;34m'poly'\u001b[0m\u001b[0;34m)\u001b[0m\u001b[0;34m,\u001b[0m \u001b[0mset_contrast\u001b[0m\u001b[0;34m,\u001b[0m \u001b[0mY_hair_color\u001b[0m\u001b[0;34m,\u001b[0m \u001b[0mcv\u001b[0m\u001b[0;34m=\u001b[0m\u001b[0;36m6\u001b[0m\u001b[0;34m)\u001b[0m\u001b[0;34m)\u001b[0m\u001b[0;34m\u001b[0m\u001b[0m\n\u001b[0m\u001b[1;32m      5\u001b[0m \u001b[0mprint\u001b[0m\u001b[0;34m(\u001b[0m\u001b[0;34m'Cross Validation score: '\u001b[0m \u001b[0;34m+\u001b[0m \u001b[0mstr\u001b[0m\u001b[0;34m(\u001b[0m\u001b[0;36m100\u001b[0m\u001b[0;34m*\u001b[0m\u001b[0mc15\u001b[0m\u001b[0;34m)\u001b[0m \u001b[0;34m+\u001b[0m \u001b[0;34m'%'\u001b[0m\u001b[0;34m)\u001b[0m\u001b[0;34m\u001b[0m\u001b[0m\n",
      "\u001b[0;31mNameError\u001b[0m: name 'set_contrast' is not defined"
     ]
    }
   ],
   "source": [
    "df3 = df[df['hair_color'] != -1]\n",
    "dftest = df[df['hair_color'] != -1] \n",
    "Y_hair_color = np.array(df3['hair_color'])\n",
    "c15 = np.mean(cross_val_score(SVC(kernel='poly'), set_contrast, Y_hair_color, cv=6))\n",
    "print('Cross Validation score: ' + str(100*c15) + '%')\n"
   ]
  },
  {
   "cell_type": "code",
   "execution_count": null,
   "metadata": {},
   "outputs": [],
   "source": []
  },
  {
   "cell_type": "markdown",
   "metadata": {},
   "source": [
    "# Plotting accuracy for each classifier with different preprocessing (PCA and NMF)"
   ]
  },
  {
   "cell_type": "markdown",
   "metadata": {},
   "source": [
    "### Human or cartoon"
   ]
  },
  {
   "cell_type": "code",
   "execution_count": 125,
   "metadata": {},
   "outputs": [
    {
     "data": {
      "image/png": "[encoded data removed]",
      "text/plain": [
       "<Figure size 1296x576 with 1 Axes>"
      ]
     },
     "metadata": {},
     "output_type": "display_data"
    }
   ],
   "source": [
    "sns.set()\n",
    "def truncate(number, dec):\n",
    "    return((int(number*(10**dec)))/(10.**dec))\n",
    "    \n",
    "def autolabel(rects, ax):\n",
    "    for rect in rects:\n",
    "        height = rect.get_height()\n",
    "        ax.text(rect.get_x() + rect.get_width()/2., 1.02*height,\n",
    "                    str(truncate(height, 2)),\n",
    "                    ha='center', va='bottom')\n",
    "\n",
    "        \n",
    "        \n",
    "human_pred_bw_PCA = 100 * np.array([c1_h_bw_PCA, c2_h_bw_PCA, c3_h_bw_PCA, c4_h_bw_PCA])\n",
    "human_pred_bw_NMF = 100 * np.array([c1_h_bw_NMF, c2_h_bw_NMF, c3_h_bw_NMF, c4_h_bw_NMF])\n",
    "human_pred_col_PCA = 100 * np.array([c1_h_col_PCA, c2_h_col_PCA, c3_h_col_PCA, c4_h_col_PCA])\n",
    "human_pred_col_NMF = 100 * np.array([c1_h_col_NMF, c2_h_col_NMF, c3_h_col_NMF, c4_h_col_NMF])\n",
    "\n",
    "\n",
    "\n",
    "\n",
    "width = 0.2\n",
    "N = len(human_pred_NMF_bw)\n",
    "ind = np.arange(N) * 1.25  # the x locations for the groups\n",
    "\n",
    "fig, ax = plt.subplots(figsize=(18, 8))\n",
    "rects1 = ax.bar(ind, human_pred_bw_PCA, width, color='indianred')\n",
    "rects2 = ax.bar(ind + width, human_pred_bw_NMF, width, color='seagreen')\n",
    "rects3 = ax.bar(ind + 2*width, human_pred_col_PCA, width, color='yellow')\n",
    "rects4 = ax.bar(ind + 3*width, human_pred_col_NMF, width, color='blue')\n",
    "autolabel(rects1, ax)\n",
    "autolabel(rects2, ax)\n",
    "autolabel(rects3, ax)\n",
    "autolabel(rects4, ax)\n",
    "\n",
    "ax.set_ylabel('Scores')\n",
    "ax.set_title('Scores for different classifiers and preprocessing (Cross Validation) for human/cartoon classification', fontsize = 20)\n",
    "ax.set_xticks(ind + width / .65)\n",
    "ax.set_xticklabels(('NeuralNetwork', 'Random Forest', 'SVM linear', 'SVM polymomial'))\n",
    "ax.legend((rects1[0], rects2[0], rects3[0], rects4[0]), \n",
    "          ('PCA (b/w)', 'NMF (bw)', 'PCA (col)', 'NMF (col)'), bbox_to_anchor=(1, 1))\n",
    "plt.show()"
   ]
  },
  {
   "cell_type": "markdown",
   "metadata": {},
   "source": [
    "### Young or old"
   ]
  },
  {
   "cell_type": "code",
   "execution_count": 124,
   "metadata": {},
   "outputs": [
    {
     "data": {
      "image/png": "[encoded data removed]",
      "text/plain": [
       "<Figure size 1296x576 with 1 Axes>"
      ]
     },
     "metadata": {},
     "output_type": "display_data"
    }
   ],
   "source": [
    "young_pred_bw_PCA = 100 * np.array([c1_y_bw_PCA, c2_y_bw_PCA, c3_y_bw_PCA, c4_y_bw_PCA])\n",
    "young_pred_bw_NMF = 100 * np.array([c1_y_bw_NMF, c2_y_bw_NMF, c3_y_bw_NMF, c4_y_bw_NMF])\n",
    "young_pred_col_PCA = 100 * np.array([c1_y_col_PCA, c2_y_col_PCA, c3_y_col_PCA, c4_y_col_PCA])\n",
    "young_pred_col_NMF = 100 * np.array([c1_y_col_NMF, c2_y_col_NMF, c3_y_col_NMF, c4_y_col_NMF])\n",
    "\n",
    "\n",
    "\n",
    "\n",
    "width = 0.2\n",
    "N = len(young_pred_bw_NMF)\n",
    "ind = np.arange(N) * 1.25  # the x locations for the groups\n",
    "\n",
    "fig, ax = plt.subplots(figsize=(18, 8))\n",
    "rects1 = ax.bar(ind, young_pred_bw_PCA, width, color='indianred')\n",
    "rects2 = ax.bar(ind + width, young_pred_bw_NMF, width, color='seagreen')\n",
    "rects3 = ax.bar(ind + 2*width, young_pred_col_PCA, width, color='yellow')\n",
    "rects4 = ax.bar(ind + 3*width, young_pred_col_NMF, width, color='blue')\n",
    "autolabel(rects1, ax)\n",
    "autolabel(rects2, ax)\n",
    "autolabel(rects3, ax)\n",
    "autolabel(rects4, ax)\n",
    "\n",
    "ax.set_ylabel('Scores')\n",
    "ax.set_title('Scores for different classifiers and preprocessing (Cross Validation) for young/old classification', fontsize = 20)\n",
    "ax.set_xticks(ind + width / .65)\n",
    "ax.set_xticklabels(('NeuralNetwork', 'Random Forest', 'SVM linear', 'SVM polymomial'))\n",
    "ax.legend((rects1[0], rects2[0], rects3[0], rects4[0]), \n",
    "          ('PCA (b/w)', 'NMF (bw)', 'PCA (col)', 'NMF (col)'), bbox_to_anchor=(1, 1))\n",
    "plt.show()"
   ]
  },
  {
   "cell_type": "markdown",
   "metadata": {},
   "source": [
    "### smiling"
   ]
  },
  {
   "cell_type": "code",
   "execution_count": 123,
   "metadata": {},
   "outputs": [
    {
     "data": {
      "image/png": "[encoded data removed]",
      "text/plain": [
       "<Figure size 1296x576 with 1 Axes>"
      ]
     },
     "metadata": {},
     "output_type": "display_data"
    }
   ],
   "source": [
    "smiling_pred_bw_PCA = 100 * np.array([c1_s_bw_PCA, c2_s_bw_PCA, c3_s_bw_PCA, c4_s_bw_PCA])\n",
    "smiling_pred_bw_NMF = 100 * np.array([c1_s_bw_NMF, c2_s_bw_NMF, c3_s_bw_NMF, c4_s_bw_NMF])\n",
    "smiling_pred_col_PCA = 100 * np.array([c1_s_col_PCA, c2_s_col_PCA, c3_s_col_PCA, c4_s_col_PCA])\n",
    "smiling_pred_col_NMF = 100 * np.array([c1_s_col_NMF, c2_s_col_NMF, c3_s_col_NMF, c4_s_col_NMF])\n",
    "\n",
    "\n",
    "\n",
    "\n",
    "width = 0.2\n",
    "N = len(smiling_pred_bw_NMF)\n",
    "ind = np.arange(N) * 1.25  # the x locations for the groups\n",
    "\n",
    "fig, ax = plt.subplots(figsize=(18, 8))\n",
    "rects1 = ax.bar(ind, smiling_pred_bw_PCA, width, color='indianred')\n",
    "rects2 = ax.bar(ind + width, smiling_pred_bw_NMF, width, color='seagreen')\n",
    "rects3 = ax.bar(ind + 2*width, smiling_pred_col_PCA, width, color='yellow')\n",
    "rects4 = ax.bar(ind + 3*width, smiling_pred_col_NMF, width, color='blue')\n",
    "autolabel(rects1, ax)\n",
    "autolabel(rects2, ax)\n",
    "autolabel(rects3, ax)\n",
    "autolabel(rects4, ax)\n",
    "\n",
    "ax.set_ylabel('Scores')\n",
    "ax.set_title('Scores for different classifiers and preprocessing (Cross Validation) for smiling classification', fontsize = 20)\n",
    "ax.set_xticks(ind + width / .65)\n",
    "ax.set_xticklabels(('NeuralNetwork', 'Random Forest', 'SVM linear', 'SVM polymomial'))\n",
    "ax.legend((rects1[0], rects2[0], rects3[0], rects4[0]), \n",
    "          ('PCA (b/w)', 'NMF (bw)', 'PCA (col)', 'NMF (col)'), bbox_to_anchor=(1, 1))\n",
    "plt.show()"
   ]
  },
  {
   "cell_type": "markdown",
   "metadata": {},
   "source": [
    "### With or without eyeglasses"
   ]
  },
  {
   "cell_type": "code",
   "execution_count": 122,
   "metadata": {},
   "outputs": [
    {
     "data": {
      "image/png": "[encoded data removed]",
      "text/plain": [
       "<Figure size 1296x576 with 1 Axes>"
      ]
     },
     "metadata": {},
     "output_type": "display_data"
    }
   ],
   "source": [
    "eyeglasses_pred_bw_PCA = 100 * np.array([c1_e_bw_PCA, c2_e_bw_PCA, c3_e_bw_PCA, c4_e_bw_PCA])\n",
    "eyeglasses_pred_bw_NMF = 100 * np.array([c1_e_bw_NMF, c2_e_bw_NMF, c3_e_bw_NMF, c4_e_bw_NMF])\n",
    "eyeglasses_pred_col_PCA = 100 * np.array([c1_e_col_PCA, c2_e_col_PCA, c3_e_col_PCA, c4_e_col_PCA])\n",
    "eyeglasses_pred_col_NMF = 100 * np.array([c1_e_col_NMF, c2_e_col_NMF, c3_e_col_NMF, c4_e_col_NMF])\n",
    "\n",
    "\n",
    "\n",
    "\n",
    "width = 0.2\n",
    "N = len(eyeglasses_pred_bw_NMF)\n",
    "ind = np.arange(N) * 1.25  # the x locations for the groups\n",
    "\n",
    "fig, ax = plt.subplots(figsize=(18, 8))\n",
    "rects1 = ax.bar(ind, eyeglasses_pred_bw_PCA, width, color='indianred')\n",
    "rects2 = ax.bar(ind + width, eyeglasses_pred_bw_NMF, width, color='seagreen')\n",
    "rects3 = ax.bar(ind + 2*width, eyeglasses_pred_col_PCA, width, color='yellow')\n",
    "rects4 = ax.bar(ind + 3*width, eyeglasses_pred_col_NMF, width, color='blue')\n",
    "autolabel(rects1, ax)\n",
    "autolabel(rects2, ax)\n",
    "autolabel(rects3, ax)\n",
    "autolabel(rects4, ax)\n",
    "\n",
    "ax.set_ylabel('Scores')\n",
    "ax.set_title('Scores for different classifiers and preprocessing (Cross Validation) for eyeglasses classification', fontsize = 20)\n",
    "ax.set_xticks(ind + width / .65)\n",
    "ax.set_xticklabels(('NeuralNetwork', 'Random Forest', 'SVM linear', 'SVM polymomial'))\n",
    "ax.legend((rects1[0], rects2[0], rects3[0], rects4[0]), \n",
    "          ('PCA (b/w)', 'NMF (bw)', 'PCA (col)', 'NMF (col)'), bbox_to_anchor=(1, 1))\n",
    "plt.show()"
   ]
  },
  {
   "cell_type": "code",
   "execution_count": null,
   "metadata": {},
   "outputs": [],
   "source": []
  },
  {
   "cell_type": "code",
   "execution_count": null,
   "metadata": {},
   "outputs": [],
   "source": []
  },
  {
   "cell_type": "code",
   "execution_count": null,
   "metadata": {},
   "outputs": [],
   "source": []
  },
  {
   "cell_type": "code",
   "execution_count": null,
   "metadata": {},
   "outputs": [],
   "source": []
  },
  {
   "cell_type": "code",
   "execution_count": null,
   "metadata": {},
   "outputs": [],
   "source": []
  },
  {
   "cell_type": "code",
   "execution_count": null,
   "metadata": {},
   "outputs": [],
   "source": []
  }
 ],
 "metadata": {
  "kernelspec": {
   "display_name": "Python 3",
   "language": "python",
   "name": "python3"
  },
  "language_info": {
   "codemirror_mode": {
    "name": "ipython",
    "version": 3
   },
   "file_extension": ".py",
   "mimetype": "text/x-python",
   "name": "python",
   "nbconvert_exporter": "python",
   "pygments_lexer": "ipython3",
   "version": "3.6.6"
  }
 },
 "nbformat": 4,
 "nbformat_minor": 2
}
