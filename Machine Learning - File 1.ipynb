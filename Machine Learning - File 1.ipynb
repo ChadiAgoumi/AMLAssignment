{
 "cells": [
  {
   "cell_type": "markdown",
   "metadata": {},
   "source": [
    "# Machine Learning - File 1"
   ]
  },
  {
   "cell_type": "code",
   "execution_count": 5,
   "metadata": {},
   "outputs": [],
   "source": [
    "import pandas as pd\n",
    "import numpy as np\n",
    "import matplotlib.pyplot as plt\n",
    "from PIL import Image\n",
    "from sklearn.model_selection import cross_val_score\n",
    "from sklearn.neural_network import MLPClassifier\n",
    "from sklearn.svm import SVC\n",
    "# from sklearn import cross_validation\n",
    "from sklearn.ensemble import RandomForestClassifier, voting_classifier\n",
    "from sklearn.tree import DecisionTreeClassifier\n",
    "from sklearn import preprocessing"
   ]
  },
  {
   "cell_type": "markdown",
   "metadata": {},
   "source": [
    "## Import / cleaning"
   ]
  },
  {
   "cell_type": "code",
   "execution_count": 2,
   "metadata": {},
   "outputs": [
    {
     "data": {
      "text/html": [
       "<div>\n",
       "<style scoped>\n",
       "    .dataframe tbody tr th:only-of-type {\n",
       "        vertical-align: middle;\n",
       "    }\n",
       "\n",
       "    .dataframe tbody tr th {\n",
       "        vertical-align: top;\n",
       "    }\n",
       "\n",
       "    .dataframe thead th {\n",
       "        text-align: right;\n",
       "    }\n",
       "</style>\n",
       "<table border=\"1\" class=\"dataframe\">\n",
       "  <thead>\n",
       "    <tr style=\"text-align: right;\">\n",
       "      <th></th>\n",
       "      <th>file_name</th>\n",
       "      <th>hair_color</th>\n",
       "      <th>eyeglasses</th>\n",
       "      <th>smiling</th>\n",
       "      <th>young</th>\n",
       "      <th>human</th>\n",
       "    </tr>\n",
       "  </thead>\n",
       "  <tbody>\n",
       "    <tr>\n",
       "      <th>0</th>\n",
       "      <td>1</td>\n",
       "      <td>1</td>\n",
       "      <td>0</td>\n",
       "      <td>1</td>\n",
       "      <td>1</td>\n",
       "      <td>0</td>\n",
       "    </tr>\n",
       "    <tr>\n",
       "      <th>1</th>\n",
       "      <td>2</td>\n",
       "      <td>4</td>\n",
       "      <td>0</td>\n",
       "      <td>1</td>\n",
       "      <td>1</td>\n",
       "      <td>1</td>\n",
       "    </tr>\n",
       "    <tr>\n",
       "      <th>2</th>\n",
       "      <td>3</td>\n",
       "      <td>5</td>\n",
       "      <td>0</td>\n",
       "      <td>1</td>\n",
       "      <td>0</td>\n",
       "      <td>0</td>\n",
       "    </tr>\n",
       "    <tr>\n",
       "      <th>6</th>\n",
       "      <td>7</td>\n",
       "      <td>2</td>\n",
       "      <td>0</td>\n",
       "      <td>1</td>\n",
       "      <td>1</td>\n",
       "      <td>0</td>\n",
       "    </tr>\n",
       "    <tr>\n",
       "      <th>7</th>\n",
       "      <td>8</td>\n",
       "      <td>3</td>\n",
       "      <td>0</td>\n",
       "      <td>1</td>\n",
       "      <td>1</td>\n",
       "      <td>0</td>\n",
       "    </tr>\n",
       "  </tbody>\n",
       "</table>\n",
       "</div>"
      ],
      "text/plain": [
       "   file_name  hair_color  eyeglasses  smiling  young  human\n",
       "0          1           1           0        1      1      0\n",
       "1          2           4           0        1      1      1\n",
       "2          3           5           0        1      0      0\n",
       "6          7           2           0        1      1      0\n",
       "7          8           3           0        1      1      0"
      ]
     },
     "execution_count": 2,
     "metadata": {},
     "output_type": "execute_result"
    }
   ],
   "source": [
    "# Importing data\n",
    "df = pd.read_csv('attribute_list.csv', skiprows=1)\n",
    "\n",
    "# reading pictures. Returning as np.array. Color level: RGB\n",
    "def read_pic(name, as_black_white=False):   \n",
    "    string = 'dataset/' + str(name) + '.png'\n",
    "    if as_black_white == True:\n",
    "        return(np.array(Image.open(string).convert(mode='L')))\n",
    "    else:\n",
    "        return(np.array(Image.open(string)))\n",
    "\n",
    "# Cleaning data\n",
    "def clean_data():\n",
    "    tmp = df[['hair_color', 'eyeglasses', 'smiling', 'young', 'human']]\n",
    "    tmp['sum'] = tmp.sum(axis=1)\n",
    "    t = tmp[tmp['sum'] == -5]\n",
    "    return(t.index + 1)\n",
    "df.drop(labels=clean_data()-1, inplace=True)\n",
    "\n",
    "# Converting (-1,1) to (0, 1)\n",
    "df['eyeglasses'] = (df['eyeglasses'] + 1) / 2\n",
    "df['smiling'] = (df['smiling'] + 1) / 2\n",
    "df['young'] = (df['young'] + 1) / 2\n",
    "df['human'] = (df['human'] + 1) / 2\n",
    "\n",
    "df['eyeglasses'] = df['eyeglasses'].apply(lambda x: int(x))\n",
    "df['smiling'] = df['smiling'].apply(lambda x: int(x))\n",
    "df['young'] = df['young'].apply(lambda x: int(x))\n",
    "df['human'] = df['human'].apply(lambda x: int(x))\n",
    "\n",
    "df.head()"
   ]
  },
  {
   "cell_type": "code",
   "execution_count": 16,
   "metadata": {},
   "outputs": [
    {
     "data": {
      "text/plain": [
       "(4565, 256, 256, 3)"
      ]
     },
     "execution_count": 16,
     "metadata": {},
     "output_type": "execute_result"
    }
   ],
   "source": [
    "# Importing Pictures\n",
    "def import_pictures(data, _as_black_white=False):\n",
    "    res = []\n",
    "    file_names = np.array(data['file_name'])\n",
    "    for k in file_names:\n",
    "        res.append(read_pic(k, as_black_white=_as_black_white)) # Data are alredy cleaned\n",
    "    return(np.array(res))\n",
    "\n",
    "pics_color = import_pictures(df)\n",
    "pics_color.shape # acces to an image: pics[name_of_img][x_pixel][y_pixel][RGB_color]"
   ]
  },
  {
   "cell_type": "markdown",
   "metadata": {},
   "source": [
    "## First try: black and white"
   ]
  },
  {
   "cell_type": "code",
   "execution_count": 6,
   "metadata": {
    "scrolled": false
   },
   "outputs": [
    {
     "name": "stdout",
     "output_type": "stream",
     "text": [
      "(4565, 256, 256)\n"
     ]
    },
    {
     "name": "stderr",
     "output_type": "stream",
     "text": [
      "/anaconda3/lib/python3.7/site-packages/sklearn/utils/validation.py:475: DataConversionWarning: Data with input dtype uint8 was converted to float64 by the scale function.\n",
      "  warnings.warn(msg, DataConversionWarning)\n"
     ]
    }
   ],
   "source": [
    "pics_b_w = import_pictures(_as_black_white=True)\n",
    "print(pics_b_w.shape)\n",
    "imgs = np.array([preprocessing.scale(pics_b_w[k]) for k in range(len(pics_b_w))])"
   ]
  },
  {
   "cell_type": "code",
   "execution_count": null,
   "metadata": {},
   "outputs": [],
   "source": []
  },
  {
   "cell_type": "code",
   "execution_count": null,
   "metadata": {},
   "outputs": [],
   "source": []
  },
  {
   "cell_type": "code",
   "execution_count": null,
   "metadata": {},
   "outputs": [],
   "source": []
  }
 ],
 "metadata": {
  "kernelspec": {
   "display_name": "Python 3",
   "language": "python",
   "name": "python3"
  },
  "language_info": {
   "codemirror_mode": {
    "name": "ipython",
    "version": 3
   },
   "file_extension": ".py",
   "mimetype": "text/x-python",
   "name": "python",
   "nbconvert_exporter": "python",
   "pygments_lexer": "ipython3",
   "version": "3.7.0"
  }
 },
 "nbformat": 4,
 "nbformat_minor": 2
}
